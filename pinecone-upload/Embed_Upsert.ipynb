{
 "cells": [
  {
   "cell_type": "markdown",
   "metadata": {},
   "source": [
    "# Chunking "
   ]
  },
  {
   "cell_type": "code",
   "execution_count": 1,
   "metadata": {},
   "outputs": [],
   "source": [
    "#imports\n",
    "import pandas as pd\n",
    "from langchain.text_splitter import RecursiveCharacterTextSplitter"
   ]
  },
  {
   "cell_type": "markdown",
   "metadata": {},
   "source": [
    "We are going to chunk all the text based columns. \n",
    "- Description ( `description`)\n",
    "- Skills (`skills_desc`)"
   ]
  },
  {
   "cell_type": "code",
   "execution_count": 3,
   "metadata": {},
   "outputs": [],
   "source": [
    "data = pd.read_csv('data.csv')"
   ]
  },
  {
   "cell_type": "code",
   "execution_count": 4,
   "metadata": {},
   "outputs": [],
   "source": [
    "text_columns = ['description']\n",
    "metadata_columns = ['title', 'company_name','location','formatted_experience_level','work_type','currency','normalized_salary']"
   ]
  },
  {
   "cell_type": "code",
   "execution_count": null,
   "metadata": {},
   "outputs": [],
   "source": [
    "# Calculate the length of each description in the original dataset\n",
    "data['description_length'] = data['description'].astype(str).apply(len)\n",
    "average_length = data['description_length'].mean()\n",
    "max_length = data['description_length'].max()\n",
    "min_length = data['description_length'].min()\n",
    "\n",
    "print(f\"Average number of characters per description: {average_length:.2f}\")\n",
    "print(f\"Maximum number of characters in a description: {max_length}\")\n",
    "print(f\"Minimum number of characters in a description: {min_length}\")\n",
    "\n"
   ]
  },
  {
   "cell_type": "markdown",
   "metadata": {},
   "source": [
    "Drop columns with small char length"
   ]
  },
  {
   "cell_type": "code",
   "execution_count": null,
   "metadata": {},
   "outputs": [],
   "source": [
    "data = data[data['description_length'] >= 800]\n",
    "data = data.drop(columns=['description_length'])\n",
    "\n",
    "print(f\"Number of rows after filtering: {data.shape[0]}\")\n",
    "data.head()"
   ]
  },
  {
   "cell_type": "code",
   "execution_count": null,
   "metadata": {},
   "outputs": [],
   "source": [
    "text_splitter = RecursiveCharacterTextSplitter(\n",
    "    chunk_size=1500,  # Number of characters per chunk\n",
    "    chunk_overlap=100  # Overlap to preserve context\n",
    ")\n",
    "\n",
    "chunked_data = []\n",
    "\n",
    "for index, row in data.iterrows():\n",
    "    for col in text_columns:\n",
    "        if pd.notna(row[col]):  # Ensure text exists\n",
    "            chunks = text_splitter.split_text(row[col])\n",
    "            for chunk in chunks:\n",
    "                chunked_data.append({\n",
    "                    \"description\": chunk, \n",
    "                    \"title\": row['title'],\n",
    "                    \"company_name\": row['company_name'],\n",
    "                    \"location\": row['location'],\n",
    "                    \"experience_level\" : row['formatted_experience_level'],\n",
    "                    \"work_type\": row['work_type'],\n",
    "                    \"salary\": row['normalized_salary']\n",
    "    \n",
    "                })\n",
    "\n",
    "chunked_df = pd.DataFrame(chunked_data)\n",
    "chunked_df.head()"
   ]
  },
  {
   "cell_type": "code",
   "execution_count": null,
   "metadata": {},
   "outputs": [],
   "source": [
    "for i in range(len(chunked_df) - 1):\n",
    "    end_overlap = chunked_df['description'][i][-100:]  # Last 100 characters of current chunk\n",
    "    start_overlap = chunked_df['description'][i + 1][:100]  # First 100 characters of next chunk\n",
    "    \n",
    "    print(f\"End of Chunk {i+1}: {end_overlap}\")\n",
    "    print(f\"Start of Chunk {i+2}: {start_overlap}\")\n",
    "    print('-' * 50)\n"
   ]
  },
  {
   "cell_type": "code",
   "execution_count": null,
   "metadata": {},
   "outputs": [],
   "source": [
    "chunked_df.shape"
   ]
  },
  {
   "cell_type": "markdown",
   "metadata": {},
   "source": [
    "## Embedding\n"
   ]
  },
  {
   "cell_type": "code",
   "execution_count": null,
   "metadata": {},
   "outputs": [],
   "source": [
    "#imports\n",
    "from fastembed.embedding import TextEmbedding"
   ]
  },
  {
   "cell_type": "code",
   "execution_count": 11,
   "metadata": {},
   "outputs": [],
   "source": [
    "# Ensure all descriptions are strings\n",
    "chunked_df['description'] = chunked_df['description'].astype(str)\n",
    "\n",
    "# Convert descriptions to a list\n",
    "text_list = chunked_df['description'].tolist()"
   ]
  },
  {
   "cell_type": "code",
   "execution_count": null,
   "metadata": {},
   "outputs": [],
   "source": [
    "supported_models = TextEmbedding.list_supported_models()\n",
    "print(\"Supported models:\", supported_models)"
   ]
  },
  {
   "cell_type": "code",
   "execution_count": 13,
   "metadata": {},
   "outputs": [],
   "source": [
    "model = TextEmbedding(model_name=\"sentence-transformers/all-MiniLM-L6-v2\")  \n"
   ]
  },
  {
   "cell_type": "code",
   "execution_count": null,
   "metadata": {},
   "outputs": [],
   "source": [
    "# TAKES ABOUT AN HOUR TO RUN DONT RUN THIS UNLESS ABSOLUTELY NEEDED !!\n",
    "embeddings = list(model.embed(text_list))"
   ]
  },
  {
   "cell_type": "markdown",
   "metadata": {},
   "source": [
    "## Upsert to pinecone"
   ]
  },
  {
   "cell_type": "code",
   "execution_count": 14,
   "metadata": {},
   "outputs": [],
   "source": [
    "from pinecone import Pinecone, ServerlessSpec"
   ]
  },
  {
   "cell_type": "code",
   "execution_count": null,
   "metadata": {},
   "outputs": [],
   "source": [
    "pc = Pinecone(api_key=\"API KEY\")\n",
    "\n",
    "# Get a list of existing indexes\n",
    "existing_indexes = pc.list_indexes()\n",
    "print(\"Existing indexes:\", existing_indexes)  # Debugging step"
   ]
  },
  {
   "cell_type": "code",
   "execution_count": null,
   "metadata": {},
   "outputs": [],
   "source": [
    "index_name = \"job-postings\"\n",
    "\n",
    "# Check if the index exists and connect to it\n",
    "if any(idx[\"name\"] == index_name for idx in existing_indexes):\n",
    "    print(f\"Connecting to existing index: {index_name}\")\n",
    "    index = pc.Index(index_name)\n",
    "else:\n",
    "    print(f\"Index '{index_name}' does not exist. Creating a new one...\")\n",
    "    pc.create_index(\n",
    "        name=index_name,\n",
    "        dimension=384, \n",
    "        metric=\"cosine\", \n",
    "        spec=ServerlessSpec(\n",
    "            cloud=\"aws\",\n",
    "            region=\"us-east-1\"\n",
    "        ) \n",
    "    )\n",
    "\n",
    "index = pc.Index(index_name)\n",
    "\n",
    "print(\"Successfully connected to Pinecone index:\", index_name)\n",
    "\n"
   ]
  },
  {
   "cell_type": "code",
   "execution_count": null,
   "metadata": {},
   "outputs": [],
   "source": [
    "upsert_data = [\n",
    "    (\n",
    "        str(i), \n",
    "        embeddings[i].tolist(),  # Ensure embedding is in list format\n",
    "        {\n",
    "            \"title\": chunked_df['title'].iloc[i] if pd.notna(chunked_df['title'].iloc[i]) else \"\",\n",
    "            \"company_name\": chunked_df['company_name'].iloc[i] if pd.notna(chunked_df['company_name'].iloc[i]) else \"\",\n",
    "            \"location\": chunked_df['location'].iloc[i] if pd.notna(chunked_df['location'].iloc[i]) else \"\",\n",
    "            \"experience_level\": chunked_df['experience_level'].iloc[i] if pd.notna(chunked_df['experience_level'].iloc[i]) else \"\",\n",
    "            \"work_type\": chunked_df['work_type'].iloc[i] if pd.notna(chunked_df['work_type'].iloc[i]) else \"\",\n",
    "            \"salary\": str(chunked_df['salary'].iloc[i]) if pd.notna(chunked_df['salary'].iloc[i]) else \"N/A\"  \n",
    "        }\n",
    "    )\n",
    "    for i in range(len(chunked_df))\n",
    "]"
   ]
  },
  {
   "cell_type": "code",
   "execution_count": null,
   "metadata": {},
   "outputs": [],
   "source": [
    "sample_record = json.dumps(upsert_data[0])\n",
    "record_size = sys.getsizeof(sample_record)\n",
    "print(f\"Size of a single record: {record_size} bytes\")\n",
    "\n",
    "max_records_per_request = 4194304 // record_size\n",
    "print(f\"Max records per request: {max_records_per_request}\")"
   ]
  },
  {
   "cell_type": "code",
   "execution_count": null,
   "metadata": {},
   "outputs": [],
   "source": [
    "batch_size = min(100, max_records_per_request)  \n",
    "for i in range(0, len(upsert_data), batch_size):\n",
    "    batch = upsert_data[i:i + batch_size]\n",
    "    index.upsert(vectors=batch)\n"
   ]
  },
  {
   "cell_type": "markdown",
   "metadata": {},
   "source": [
    "## Testing queries"
   ]
  },
  {
   "cell_type": "code",
   "execution_count": null,
   "metadata": {},
   "outputs": [],
   "source": [
    "data['description'][5]"
   ]
  },
  {
   "cell_type": "code",
   "execution_count": null,
   "metadata": {},
   "outputs": [],
   "source": [
    "query_text = \"Machine Learning Engineer with Python skills\"\n",
    "query_embedding = list(model.embed([query_text]))[0].tolist()  # \n",
    "\n",
    "results = index.query(\n",
    "    vector=query_embedding,  # Query with single vector\n",
    "    top_k=5,                 \n",
    "    include_metadata=True    \n",
    ")\n",
    "if 'matches' in results and results['matches']:\n",
    "    for match in results['matches']:\n",
    "        print(f\"Job Title: {match['metadata'].get('title', 'N/A')}\")\n",
    "        print(f\"Company: {match['metadata'].get('company_name', 'N/A')}\")\n",
    "        print(f\"Location: {match['metadata'].get('location', 'N/A')}\")\n",
    "        print(f\"Score: {match.get('score', 0):.2f}\")\n",
    "        print(\"-\" * 40)\n",
    "else:\n",
    "    print(\"No matching results found.\")\n",
    "\n"
   ]
  },
  {
   "cell_type": "code",
   "execution_count": null,
   "metadata": {},
   "outputs": [],
   "source": [
    "query_text2 = \"Senior Associate Attorney\"\n",
    "query_embedding = list(model.embed([query_text2]))[0].tolist()  # Ensure list format\n",
    "\n",
    "results = index.query(\n",
    "    vector=query_embedding,  \n",
    "    top_k=5,                 \n",
    "    include_metadata=True   \n",
    ")\n",
    "\n",
    "if 'matches' in results and results['matches']:\n",
    "    for match in results['matches']:\n",
    "        print(f\"Job Title: {match['metadata'].get('title', 'N/A')}\")\n",
    "        print(f\"Company: {match['metadata'].get('company_name', 'N/A')}\")\n",
    "        print(f\"Location: {match['metadata'].get('location', 'N/A')}\")\n",
    "        print(f\"Score: {match.get('score', 0):.2f}\")\n",
    "        print(\"-\" * 40)\n",
    "else:\n",
    "    print(\"No matching results found.\")"
   ]
  },
  {
   "cell_type": "code",
   "execution_count": null,
   "metadata": {},
   "outputs": [],
   "source": [
    "query_text3 = \"economic development, city planning\"\n",
    "query_embedding = list(model.embed([query_text3]))[0].tolist()  \n",
    "results = index.query(\n",
    "    vector=query_embedding,  # Query with single vector\n",
    "    top_k=5,                 \n",
    "    include_metadata=True    \n",
    ")\n",
    "\n",
    "if 'matches' in results and results['matches']:\n",
    "    for match in results['matches']:\n",
    "        print(f\"Job Title: {match['metadata'].get('title', 'N/A')}\")\n",
    "        print(f\"Company: {match['metadata'].get('company_name', 'N/A')}\")\n",
    "        print(f\"Location: {match['metadata'].get('location', 'N/A')}\")\n",
    "        print(f\"Score: {match.get('score', 0):.2f}\")\n",
    "        print(\"-\" * 40)\n",
    "else:\n",
    "    print(\"No matching results found.\")"
   ]
  },
  {
   "cell_type": "code",
   "execution_count": null,
   "metadata": {},
   "outputs": [],
   "source": []
  }
 ],
 "metadata": {
  "kernelspec": {
   "display_name": "Python 3",
   "language": "python",
   "name": "python3"
  },
  "language_info": {
   "codemirror_mode": {
    "name": "ipython",
    "version": 3
   },
   "file_extension": ".py",
   "mimetype": "text/x-python",
   "name": "python",
   "nbconvert_exporter": "python",
   "pygments_lexer": "ipython3",
   "version": "3.12.4"
  }
 },
 "nbformat": 4,
 "nbformat_minor": 2
}

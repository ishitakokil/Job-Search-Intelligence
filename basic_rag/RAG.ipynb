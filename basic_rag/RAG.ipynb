{
 "cells": [
  {
   "cell_type": "code",
   "execution_count": 10,
   "metadata": {
    "trusted": false
   },
   "outputs": [],
   "source": [
    "# !pip install pinecone-client --quiet\n",
    "# !pip install langchain-pinecone --quiet\n",
    "# !pip install langchain-huggingface --quiet\n",
    "# !pip install langchain-openai --quiet\n",
    "# !pip install openai --quiet\n",
    "# !pip install fastembed --quiet\n"
   ]
  },
  {
   "cell_type": "code",
   "execution_count": 11,
   "metadata": {
    "trusted": false
   },
   "outputs": [],
   "source": [
    "import os\n",
    "from pinecone import Pinecone, ServerlessSpec\n",
    "from langchain_huggingface import HuggingFaceEmbeddings\n",
    "from langchain_pinecone import PineconeVectorStore\n",
    "from langchain_openai import ChatOpenAI\n",
    "from langchain.chains import RetrievalQA"
   ]
  },
  {
   "cell_type": "markdown",
   "metadata": {},
   "source": [
    "## Setting up OPENAI / Pinecone Keys"
   ]
  },
  {
   "cell_type": "code",
   "execution_count": 12,
   "metadata": {
    "trusted": false
   },
   "outputs": [],
   "source": [
    "pinecone_api_key = \"\n",
    "openai_api_key = \"\n"
   ]
  },
  {
   "cell_type": "code",
   "execution_count": 13,
   "metadata": {
    "trusted": false
   },
   "outputs": [
    {
     "name": "stdout",
     "output_type": "stream",
     "text": [
      "Existing indexes: {'indexes': [{'deletion_protection': 'disabled',\n",
      "              'dimension': 384,\n",
      "              'host': 'job-postings-oj9ksfs.svc.aped-4627-b74a.pinecone.io',\n",
      "              'metric': 'cosine',\n",
      "              'name': 'job-postings',\n",
      "              'spec': {'serverless': {'cloud': 'aws', 'region': 'us-east-1'}},\n",
      "              'status': {'ready': True, 'state': 'Ready'}}]}\n",
      "Successfully connected to Pinecone index: job-postings\n"
     ]
    }
   ],
   "source": [
    "pc = Pinecone(api_key=pinecone_api_key,environment=\"us-east-1\" )\n",
    "\n",
    "existing_indexes = pc.list_indexes()\n",
    "print(\"Existing indexes:\", existing_indexes)\n",
    "\n",
    "index_name = \"job-postings\"\n",
    "index = pc.Index(index_name)\n",
    "\n",
    "print(\"Successfully connected to Pinecone index:\", index_name)\n"
   ]
  },
  {
   "cell_type": "code",
   "execution_count": 14,
   "metadata": {
    "trusted": false
   },
   "outputs": [],
   "source": [
    "embeddings = HuggingFaceEmbeddings(model_name=\"all-MiniLM-L6-v2\")\n",
    "vectorstore = PineconeVectorStore(index, embeddings)"
   ]
  },
  {
   "cell_type": "code",
   "execution_count": 15,
   "metadata": {
    "trusted": false
   },
   "outputs": [],
   "source": [
    "llm = ChatOpenAI(\n",
    "    openai_api_key=openai_api_key,\n",
    "    model_name='gpt-3.5-turbo',\n",
    "    temperature=0.7\n",
    ")\n",
    "\n",
    "retriever = vectorstore.as_retriever(search_type=\"similarity\")\n",
    "qa = RetrievalQA.from_chain_type(\n",
    "    llm=llm,\n",
    "    chain_type=\"stuff\",\n",
    "    retriever=vectorstore.as_retriever()\n",
    ")"
   ]
  },
  {
   "cell_type": "markdown",
   "metadata": {},
   "source": [
    "## Queries "
   ]
  },
  {
   "cell_type": "markdown",
   "metadata": {},
   "source": [
    "### 1. "
   ]
  },
  {
   "cell_type": "code",
   "execution_count": 16,
   "metadata": {
    "trusted": false
   },
   "outputs": [
    {
     "name": "stdout",
     "output_type": "stream",
     "text": [
      "Based on the context provided, here are some marketing jobs available in New York:\n",
      "\n",
      "1. Marketing and Business Development Coordinator at a law firm in New Haven with occasional travel to Greenwich, New York, and Boston.\n",
      "2. Sales and Marketing Professionals at a leading sales & marketing firm in New Jersey with territories in New Jersey and New York.\n",
      "3. Entry-level sales and marketing positions with opportunities for growth at a firm expanding from Atlanta to Charlotte.\n",
      "\n",
      "If you are looking for opportunities in New York specifically, the first two options might be more relevant as they have offices or territories in New York.\n"
     ]
    }
   ],
   "source": [
    "query = \"What marketing jobs are available in new york?\"\n",
    "response = qa.invoke({\"query\": query})\n",
    "print(response[\"result\"])"
   ]
  },
  {
   "cell_type": "markdown",
   "metadata": {},
   "source": [
    "### 2. "
   ]
  },
  {
   "cell_type": "code",
   "execution_count": 17,
   "metadata": {},
   "outputs": [
    {
     "name": "stdout",
     "output_type": "stream",
     "text": [
      "Based on the information provided in the context, there is a Salesforce Software Engineer job opening that can be based remotely in San Francisco.\n"
     ]
    }
   ],
   "source": [
    "query = \"Are there any software engineering jobs in San Francisco?\"\n",
    "response = qa.invoke({\"query\": query})\n",
    "print(response[\"result\"])"
   ]
  },
  {
   "cell_type": "markdown",
   "metadata": {},
   "source": [
    "### 3. "
   ]
  },
  {
   "cell_type": "code",
   "execution_count": 18,
   "metadata": {},
   "outputs": [
    {
     "name": "stdout",
     "output_type": "stream",
     "text": [
      "Based on the information provided, entry-level data scientist jobs may require a minimum of a Bachelor's degree in data science or related fields, a minimum of 2 years of demonstrable experience in data analysis, proficiency in using Excel for data analysis and visualization, willingness to learn basic data science tools and methodologies, and communication skills. Entry-level data scientist positions may involve working with industry-standard software programs, problem-solving, critical thinking, attention to detail, and collaboration within a team. Additionally, having proficiency in basic data science tools and methodologies like Python, SQL, and machine learning could be beneficial for entry-level roles. It's important to note that specific job requirements may vary based on the company and role.\n"
     ]
    }
   ],
   "source": [
    "query = \"What entry-level data scientist jobs are available?\"\n",
    "response = qa.invoke({\"query\": query})\n",
    "print(response[\"result\"])"
   ]
  },
  {
   "cell_type": "markdown",
   "metadata": {},
   "source": [
    "### 4. "
   ]
  },
  {
   "cell_type": "code",
   "execution_count": 19,
   "metadata": {},
   "outputs": [
    {
     "name": "stdout",
     "output_type": "stream",
     "text": [
      "Here are two remote graphic design job opportunities based on the provided context:\n",
      "\n",
      "1. **Job Title:** Graphic Designer (Fulltime)\n",
      "   - **Contract Type:** Full-time\n",
      "   - **Location:** Remote position\n",
      "   - **Responsibilities:** Working with numerous different design platforms such as digital and print forms, preparing rough concept presentations, collaborating with various teams to produce final designs.\n",
      "   - **Qualifications:** Bachelor's degree in Graphic Design or related field, 2-4 years of experience in graphic design, proficiency in Adobe Creative Suite, strong communication, conceptual thinking, typography skills, and design skills.\n",
      "  \n",
      "2. **Job Title:** Animator/Motion Graphics Designer\n",
      "   - **Contract Type:** Long-term freelance project\n",
      "   - **Location:** Remote (EST hours) or onsite in South Deerfield, MA\n",
      "   - **Responsibilities:** Creating visually appealing animations and motion graphics for eCommerce websites, optimizing animations for the web, adhering to brand guidelines.\n",
      "   - **Qualifications:** Strong understanding of animation and motion graphics principles, experience with Adobe After Effects, Adobe Premiere Pro, and related software.\n",
      "\n",
      "If you are interested and qualified for these roles, you can reach out to the respective contacts mentioned in the job descriptions.\n"
     ]
    }
   ],
   "source": [
    "query = \"Find remote graphic design jobs.\"\n",
    "response = qa.invoke({\"query\": query})\n",
    "print(response[\"result\"])\n"
   ]
  },
  {
   "cell_type": "markdown",
   "metadata": {},
   "source": [
    "### 5. "
   ]
  },
  {
   "cell_type": "code",
   "execution_count": 20,
   "metadata": {},
   "outputs": [
    {
     "name": "stdout",
     "output_type": "stream",
     "text": [
      "Based on the information provided, the highest-paying data scientist job available seems to be the position of Consulting Staff Data Scientist with a pay range of $90 - $110 per hour. This role offers the opportunity for conversion to full-time employment after 6 months, a competitive total rewards package, and the chance to work with cutting-edge technology.\n"
     ]
    }
   ],
   "source": [
    "query = \"What are the highest-paying data scientist jobs available?\"\n",
    "response = qa.invoke({\"query\": query})\n",
    "print(response[\"result\"])"
   ]
  },
  {
   "cell_type": "markdown",
   "metadata": {},
   "source": [
    "### 6. "
   ]
  },
  {
   "cell_type": "code",
   "execution_count": 21,
   "metadata": {},
   "outputs": [
    {
     "name": "stdout",
     "output_type": "stream",
     "text": [
      "For a Senior Machine Learning Engineer position in Los Angeles, the salary range is $150,000 to $180,000. For a Sr. Lead Machine Learning Engineer in New York City (Hybrid On-Site), the range is $234,700 to $267,900, and in San Francisco, California (Hybrid On-Site), it is $248,700 to $283,800. These are the specific salary ranges for these positions in these locations.\n"
     ]
    }
   ],
   "source": [
    "query = \"What is the salary range for machine learning engineer positions?\"\n",
    "response = qa.invoke({\"query\": query})\n",
    "print(response[\"result\"])"
   ]
  }
 ],
 "metadata": {
  "kernelspec": {
   "display_name": "base",
   "language": "python",
   "name": "python3"
  },
  "language_info": {
   "codemirror_mode": {
    "name": "ipython",
    "version": 3
   },
   "file_extension": ".py",
   "mimetype": "text/x-python",
   "name": "python",
   "nbconvert_exporter": "python",
   "pygments_lexer": "ipython3",
   "version": "3.12.7"
  }
 },
 "nbformat": 4,
 "nbformat_minor": 2
}
